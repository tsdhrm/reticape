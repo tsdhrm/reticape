{
 "cells": [
  {
   "cell_type": "markdown",
   "id": "38594ce9-8c82-4332-8846-8d68c8628fe6",
   "metadata": {},
   "source": [
    "# MLP A: Dibulatkan tanpa Outlier RDR"
   ]
  },
  {
   "cell_type": "code",
   "execution_count": 1,
   "id": "9828bdee-bd3a-4f84-8643-b3194206c002",
   "metadata": {},
   "outputs": [
    {
     "name": "stderr",
     "output_type": "stream",
     "text": [
      "2022-11-22 06:15:26.911594: I tensorflow/core/platform/cpu_feature_guard.cc:193] This TensorFlow binary is optimized with oneAPI Deep Neural Network Library (oneDNN) to use the following CPU instructions in performance-critical operations:  AVX2 FMA\n",
      "To enable them in other operations, rebuild TensorFlow with the appropriate compiler flags.\n",
      "2022-11-22 06:15:27.081776: W tensorflow/compiler/xla/stream_executor/platform/default/dso_loader.cc:64] Could not load dynamic library 'libcudart.so.11.0'; dlerror: libcudart.so.11.0: cannot open shared object file: No such file or directory\n",
      "2022-11-22 06:15:27.081806: I tensorflow/compiler/xla/stream_executor/cuda/cudart_stub.cc:29] Ignore above cudart dlerror if you do not have a GPU set up on your machine.\n",
      "2022-11-22 06:15:28.004756: W tensorflow/compiler/xla/stream_executor/platform/default/dso_loader.cc:64] Could not load dynamic library 'libnvinfer.so.7'; dlerror: libnvinfer.so.7: cannot open shared object file: No such file or directory\n",
      "2022-11-22 06:15:28.004938: W tensorflow/compiler/xla/stream_executor/platform/default/dso_loader.cc:64] Could not load dynamic library 'libnvinfer_plugin.so.7'; dlerror: libnvinfer_plugin.so.7: cannot open shared object file: No such file or directory\n",
      "2022-11-22 06:15:28.004952: W tensorflow/compiler/tf2tensorrt/utils/py_utils.cc:38] TF-TRT Warning: Cannot dlopen some TensorRT libraries. If you would like to use Nvidia GPU with TensorRT, please make sure the missing libraries mentioned above are installed properly.\n"
     ]
    }
   ],
   "source": [
    "import os\n",
    "import numpy as np\n",
    "import pandas as pd\n",
    "import tensorflow as tf\n",
    "import itertools\n",
    "import warnings\n",
    "from sklearn.metrics import accuracy_score, precision_score, recall_score, f1_score\n",
    "\n",
    "tf.random.set_seed(7)\n",
    "os.environ['TF_CPP_MIN_LOG_LEVEL'] = '2' \n",
    "warnings.filterwarnings('ignore')"
   ]
  },
  {
   "cell_type": "markdown",
   "id": "ef7a87a1-5529-4f4f-a311-513cdc364b67",
   "metadata": {},
   "source": [
    "# Read Data and Prune"
   ]
  },
  {
   "cell_type": "code",
   "execution_count": 2,
   "id": "ed216e51-c6fb-439a-bde5-059b15325c35",
   "metadata": {},
   "outputs": [],
   "source": [
    "def prune_columns(dfm:pd.DataFrame, cols:list):\n",
    "    return dfm.drop(cols, axis=1)"
   ]
  },
  {
   "cell_type": "code",
   "execution_count": 3,
   "id": "3ac39d3f-c338-4a3b-8f09-51e98d4bf186",
   "metadata": {},
   "outputs": [],
   "source": [
    "def read_data(ddir:str):\n",
    "    dataframe = pd.read_csv(ddir)\n",
    "    pruned_dataframe = prune_columns(dataframe, ['ImagesName'])\n",
    "    return pruned_dataframe"
   ]
  },
  {
   "cell_type": "markdown",
   "id": "1b2ae630-f407-46a3-8117-22d58e56331a",
   "metadata": {},
   "source": [
    "# Split and Scale Data"
   ]
  },
  {
   "cell_type": "code",
   "execution_count": 4,
   "id": "d196723a-b4d9-4f5e-a2fd-fcec21620412",
   "metadata": {},
   "outputs": [],
   "source": [
    "from sklearn.model_selection import train_test_split\n",
    "from sklearn.preprocessing import StandardScaler"
   ]
  },
  {
   "cell_type": "code",
   "execution_count": 5,
   "id": "9065739e-2345-4129-8302-842685141d00",
   "metadata": {},
   "outputs": [],
   "source": [
    "def split_data(dataframe:pd.DataFrame):\n",
    "    X = dataframe.drop(['Labels'], axis=1)\n",
    "    y = dataframe['Labels']\n",
    "    \n",
    "    X_train, X_test, y_train, y_test = train_test_split(X, y, test_size=0.2, random_state=42)\n",
    "    \n",
    "    scaler = StandardScaler()\n",
    "    X_train_scaled = scaler.fit_transform(X_train)\n",
    "    X_test_scaled = scaler.transform(X_test)\n",
    "    \n",
    "    return X_train_scaled, X_test_scaled, y_train, y_test"
   ]
  },
  {
   "cell_type": "markdown",
   "id": "c393e6ee-e3bc-4ab6-837e-a3ead7f0b5ee",
   "metadata": {},
   "source": [
    "# Build Models"
   ]
  },
  {
   "cell_type": "code",
   "execution_count": 6,
   "id": "e73c37ea-c77d-4b58-a63f-ff0a4c2bc811",
   "metadata": {},
   "outputs": [],
   "source": [
    "def optimize(models: list,\n",
    "             X_train: np.array,\n",
    "             y_train: np.array,\n",
    "             X_test: np.array,\n",
    "             y_test: np.array,\n",
    "             epochs: int = 50,\n",
    "             verbose: int = 0) -> pd.DataFrame:\n",
    "    \n",
    "    # We'll store the results here\n",
    "    results = []\n",
    "    \n",
    "    def train(model: tf.keras.Sequential) -> dict:\n",
    "        # Change this however you want \n",
    "        # We're not optimizing this part today\n",
    "        model.compile(\n",
    "            loss=tf.keras.losses.binary_crossentropy,\n",
    "            optimizer=tf.keras.optimizers.Adam(),\n",
    "            metrics=[\n",
    "                tf.keras.metrics.BinaryAccuracy(name='accuracy')\n",
    "            ]\n",
    "        )\n",
    "        \n",
    "        # Train the model\n",
    "        model.fit(\n",
    "            X_train,\n",
    "            y_train,\n",
    "            epochs=epochs,\n",
    "            verbose=verbose\n",
    "        )\n",
    "        \n",
    "        \n",
    "        # Make predictions on the test set\n",
    "        preds = model.predict(X_test)\n",
    "        prediction_classes = [1 if prob > 0.5 else 0 for prob in np.ravel(preds)]\n",
    "        \n",
    "        model.evaluate(X_test, y_test, verbose=0)\n",
    "        model.save(f'/home/tsdhrm/Documents/retinacape/reticape/modelling/MLP/savedModel/default_lr/nn_{model.name}.h5')\n",
    "        # Return evaluation metrics on the test set\n",
    "        return {\n",
    "            'model_name': model.name,\n",
    "            'test_accuracy': accuracy_score(y_test, prediction_classes),\n",
    "            'test_precision': precision_score(y_test, prediction_classes),\n",
    "            'test_recall': recall_score(y_test, prediction_classes),\n",
    "            'test_f1': f1_score(y_test, prediction_classes)\n",
    "        }\n",
    "    \n",
    "    # Train every model and save results\n",
    "    for model in models:\n",
    "        try:\n",
    "            print(model.name, end=' ... ')\n",
    "            res = train(model=model)\n",
    "            results.append(res)\n",
    "        except Exception as e:\n",
    "            print(f'{model.name} --> {str(e)}')\n",
    "        \n",
    "    return pd.DataFrame(results)"
   ]
  },
  {
   "cell_type": "code",
   "execution_count": 7,
   "id": "fd5fe5d5-4894-477c-9ff7-486017d363b4",
   "metadata": {},
   "outputs": [],
   "source": [
    "def build_models(num_layers: int, min_nodes_per_layer: int,\\\n",
    "                 max_nodes_per_layer: int, node_step_size: int,\\\n",
    "                 input_shape: tuple, hidden_layer_activation: str = 'relu',\\\n",
    "                 num_nodes_at_output: int = 1, output_layer_activation: str = 'sigmoid') -> list:\n",
    "    \n",
    "    node_options = list(range(min_nodes_per_layer, max_nodes_per_layer + 1, node_step_size))\n",
    "    layer_possibilities = [node_options] * num_layers\n",
    "    layer_node_permutations = list(itertools.product(*layer_possibilities))\n",
    "    \n",
    "    models = []\n",
    "    for permutation in layer_node_permutations:\n",
    "        model = tf.keras.Sequential()\n",
    "        model.add(tf.keras.layers.InputLayer(input_shape=input_shape))\n",
    "        model_name = ''\n",
    "        \n",
    "        for nodes_at_layer in permutation:\n",
    "            model.add(tf.keras.layers.Dense(nodes_at_layer, activation=hidden_layer_activation))\n",
    "            model_name += f'dense{nodes_at_layer}_'\n",
    "        \n",
    "        model.add(tf.keras.layers.Dense(num_nodes_at_output, activation=output_layer_activation))\n",
    "        model._name = model_name[:-1]\n",
    "        models.append(model)\n",
    "        \n",
    "    return models"
   ]
  },
  {
   "cell_type": "markdown",
   "id": "c03dd2fd-985a-419d-890c-bc710341ff1e",
   "metadata": {},
   "source": [
    "# Main"
   ]
  },
  {
   "cell_type": "markdown",
   "id": "2695d178-5d1b-436f-a7f9-1ea83cb7ae63",
   "metadata": {},
   "source": [
    "# Read"
   ]
  },
  {
   "cell_type": "code",
   "execution_count": 8,
   "id": "7390b0de-6134-4037-a8f6-1a6faeb30bd4",
   "metadata": {},
   "outputs": [],
   "source": [
    "features_data_dir = '/home/tsdhrm/Documents/retinacape/reticape/exportedDataframe/tanpaDibulatkan.csv'"
   ]
  },
  {
   "cell_type": "code",
   "execution_count": 9,
   "id": "0a40ed32-d0eb-45a5-83a5-dbabf4ae6ffa",
   "metadata": {},
   "outputs": [],
   "source": [
    "df = read_data(features_data_dir)"
   ]
  },
  {
   "cell_type": "code",
   "execution_count": 10,
   "id": "b6f3e733-a325-4cba-b2eb-559c7d9b0a65",
   "metadata": {},
   "outputs": [
    {
     "data": {
      "text/html": [
       "<div>\n",
       "<style scoped>\n",
       "    .dataframe tbody tr th:only-of-type {\n",
       "        vertical-align: middle;\n",
       "    }\n",
       "\n",
       "    .dataframe tbody tr th {\n",
       "        vertical-align: top;\n",
       "    }\n",
       "\n",
       "    .dataframe thead th {\n",
       "        text-align: right;\n",
       "    }\n",
       "</style>\n",
       "<table border=\"1\" class=\"dataframe\">\n",
       "  <thead>\n",
       "    <tr style=\"text-align: right;\">\n",
       "      <th></th>\n",
       "      <th>CDR</th>\n",
       "      <th>VCDR</th>\n",
       "      <th>RDR</th>\n",
       "      <th>I</th>\n",
       "      <th>S</th>\n",
       "      <th>N</th>\n",
       "      <th>T</th>\n",
       "      <th>Labels</th>\n",
       "    </tr>\n",
       "  </thead>\n",
       "  <tbody>\n",
       "    <tr>\n",
       "      <th>80</th>\n",
       "      <td>0.405660</td>\n",
       "      <td>0.323308</td>\n",
       "      <td>0.163522</td>\n",
       "      <td>181</td>\n",
       "      <td>186</td>\n",
       "      <td>107</td>\n",
       "      <td>140</td>\n",
       "      <td>0</td>\n",
       "    </tr>\n",
       "    <tr>\n",
       "      <th>28</th>\n",
       "      <td>0.434343</td>\n",
       "      <td>0.469091</td>\n",
       "      <td>0.060606</td>\n",
       "      <td>131</td>\n",
       "      <td>146</td>\n",
       "      <td>18</td>\n",
       "      <td>142</td>\n",
       "      <td>0</td>\n",
       "    </tr>\n",
       "    <tr>\n",
       "      <th>34</th>\n",
       "      <td>0.411141</td>\n",
       "      <td>0.422343</td>\n",
       "      <td>0.190981</td>\n",
       "      <td>157</td>\n",
       "      <td>173</td>\n",
       "      <td>150</td>\n",
       "      <td>144</td>\n",
       "      <td>0</td>\n",
       "    </tr>\n",
       "    <tr>\n",
       "      <th>59</th>\n",
       "      <td>0.391304</td>\n",
       "      <td>0.427215</td>\n",
       "      <td>0.098551</td>\n",
       "      <td>152</td>\n",
       "      <td>159</td>\n",
       "      <td>175</td>\n",
       "      <td>102</td>\n",
       "      <td>0</td>\n",
       "    </tr>\n",
       "    <tr>\n",
       "      <th>115</th>\n",
       "      <td>0.525943</td>\n",
       "      <td>0.398927</td>\n",
       "      <td>0.129717</td>\n",
       "      <td>204</td>\n",
       "      <td>200</td>\n",
       "      <td>94</td>\n",
       "      <td>181</td>\n",
       "      <td>1</td>\n",
       "    </tr>\n",
       "  </tbody>\n",
       "</table>\n",
       "</div>"
      ],
      "text/plain": [
       "          CDR      VCDR       RDR    I    S    N    T  Labels\n",
       "80   0.405660  0.323308  0.163522  181  186  107  140       0\n",
       "28   0.434343  0.469091  0.060606  131  146   18  142       0\n",
       "34   0.411141  0.422343  0.190981  157  173  150  144       0\n",
       "59   0.391304  0.427215  0.098551  152  159  175  102       0\n",
       "115  0.525943  0.398927  0.129717  204  200   94  181       1"
      ]
     },
     "execution_count": 10,
     "metadata": {},
     "output_type": "execute_result"
    }
   ],
   "source": [
    "df.sample(5)"
   ]
  },
  {
   "cell_type": "code",
   "execution_count": 11,
   "id": "3d4fb2a0-4fcf-45e6-830f-18a9c31fee50",
   "metadata": {},
   "outputs": [],
   "source": [
    "X_train_scaled, X_test_scaled, y_train, y_test = split_data(df)"
   ]
  },
  {
   "cell_type": "code",
   "execution_count": 12,
   "id": "5c0e4fb3-9d84-4130-8d26-01df0195c59d",
   "metadata": {},
   "outputs": [
    {
     "name": "stderr",
     "output_type": "stream",
     "text": [
      "2022-11-22 06:15:29.551749: W tensorflow/compiler/xla/stream_executor/platform/default/dso_loader.cc:64] Could not load dynamic library 'libcuda.so.1'; dlerror: libcuda.so.1: cannot open shared object file: No such file or directory\n",
      "2022-11-22 06:15:29.551799: W tensorflow/compiler/xla/stream_executor/cuda/cuda_driver.cc:265] failed call to cuInit: UNKNOWN ERROR (303)\n",
      "2022-11-22 06:15:29.551906: I tensorflow/compiler/xla/stream_executor/cuda/cuda_diagnostics.cc:156] kernel driver does not appear to be running on this host (fedora): /proc/driver/nvidia/version does not exist\n",
      "2022-11-22 06:15:29.552446: I tensorflow/core/platform/cpu_feature_guard.cc:193] This TensorFlow binary is optimized with oneAPI Deep Neural Network Library (oneDNN) to use the following CPU instructions in performance-critical operations:  AVX2 FMA\n",
      "To enable them in other operations, rebuild TensorFlow with the appropriate compiler flags.\n"
     ]
    }
   ],
   "source": [
    "all_models = build_models(\\\n",
    "                          num_layers=3,#3\n",
    "                          min_nodes_per_layer=10,\n",
    "                          max_nodes_per_layer=30,\n",
    "                          node_step_size=5,\n",
    "                          input_shape=(7,)\\\n",
    "                         )"
   ]
  },
  {
   "cell_type": "code",
   "execution_count": 13,
   "id": "9638db17-80cd-4618-b82f-ed1bc06e3dba",
   "metadata": {},
   "outputs": [
    {
     "name": "stdout",
     "output_type": "stream",
     "text": [
      "dense10_dense10_dense10 ... dense10_dense10_dense10 --> name 'learning_rate' is not defined\n",
      "dense10_dense10_dense15 ... dense10_dense10_dense15 --> name 'learning_rate' is not defined\n",
      "dense10_dense10_dense20 ... dense10_dense10_dense20 --> name 'learning_rate' is not defined\n",
      "dense10_dense10_dense25 ... dense10_dense10_dense25 --> name 'learning_rate' is not defined\n",
      "dense10_dense10_dense30 ... dense10_dense10_dense30 --> name 'learning_rate' is not defined\n",
      "dense10_dense15_dense10 ... dense10_dense15_dense10 --> name 'learning_rate' is not defined\n",
      "dense10_dense15_dense15 ... dense10_dense15_dense15 --> name 'learning_rate' is not defined\n",
      "dense10_dense15_dense20 ... dense10_dense15_dense20 --> name 'learning_rate' is not defined\n",
      "dense10_dense15_dense25 ... dense10_dense15_dense25 --> name 'learning_rate' is not defined\n",
      "dense10_dense15_dense30 ... dense10_dense15_dense30 --> name 'learning_rate' is not defined\n",
      "dense10_dense20_dense10 ... dense10_dense20_dense10 --> name 'learning_rate' is not defined\n",
      "dense10_dense20_dense15 ... dense10_dense20_dense15 --> name 'learning_rate' is not defined\n",
      "dense10_dense20_dense20 ... dense10_dense20_dense20 --> name 'learning_rate' is not defined\n",
      "dense10_dense20_dense25 ... dense10_dense20_dense25 --> name 'learning_rate' is not defined\n",
      "dense10_dense20_dense30 ... dense10_dense20_dense30 --> name 'learning_rate' is not defined\n",
      "dense10_dense25_dense10 ... dense10_dense25_dense10 --> name 'learning_rate' is not defined\n",
      "dense10_dense25_dense15 ... dense10_dense25_dense15 --> name 'learning_rate' is not defined\n",
      "dense10_dense25_dense20 ... dense10_dense25_dense20 --> name 'learning_rate' is not defined\n",
      "dense10_dense25_dense25 ... dense10_dense25_dense25 --> name 'learning_rate' is not defined\n",
      "dense10_dense25_dense30 ... dense10_dense25_dense30 --> name 'learning_rate' is not defined\n",
      "dense10_dense30_dense10 ... dense10_dense30_dense10 --> name 'learning_rate' is not defined\n",
      "dense10_dense30_dense15 ... dense10_dense30_dense15 --> name 'learning_rate' is not defined\n",
      "dense10_dense30_dense20 ... dense10_dense30_dense20 --> name 'learning_rate' is not defined\n",
      "dense10_dense30_dense25 ... dense10_dense30_dense25 --> name 'learning_rate' is not defined\n",
      "dense10_dense30_dense30 ... dense10_dense30_dense30 --> name 'learning_rate' is not defined\n",
      "dense15_dense10_dense10 ... dense15_dense10_dense10 --> name 'learning_rate' is not defined\n",
      "dense15_dense10_dense15 ... dense15_dense10_dense15 --> name 'learning_rate' is not defined\n",
      "dense15_dense10_dense20 ... dense15_dense10_dense20 --> name 'learning_rate' is not defined\n",
      "dense15_dense10_dense25 ... dense15_dense10_dense25 --> name 'learning_rate' is not defined\n",
      "dense15_dense10_dense30 ... dense15_dense10_dense30 --> name 'learning_rate' is not defined\n",
      "dense15_dense15_dense10 ... dense15_dense15_dense10 --> name 'learning_rate' is not defined\n",
      "dense15_dense15_dense15 ... dense15_dense15_dense15 --> name 'learning_rate' is not defined\n",
      "dense15_dense15_dense20 ... dense15_dense15_dense20 --> name 'learning_rate' is not defined\n",
      "dense15_dense15_dense25 ... dense15_dense15_dense25 --> name 'learning_rate' is not defined\n",
      "dense15_dense15_dense30 ... dense15_dense15_dense30 --> name 'learning_rate' is not defined\n",
      "dense15_dense20_dense10 ... dense15_dense20_dense10 --> name 'learning_rate' is not defined\n",
      "dense15_dense20_dense15 ... dense15_dense20_dense15 --> name 'learning_rate' is not defined\n",
      "dense15_dense20_dense20 ... dense15_dense20_dense20 --> name 'learning_rate' is not defined\n",
      "dense15_dense20_dense25 ... dense15_dense20_dense25 --> name 'learning_rate' is not defined\n",
      "dense15_dense20_dense30 ... dense15_dense20_dense30 --> name 'learning_rate' is not defined\n",
      "dense15_dense25_dense10 ... dense15_dense25_dense10 --> name 'learning_rate' is not defined\n",
      "dense15_dense25_dense15 ... dense15_dense25_dense15 --> name 'learning_rate' is not defined\n",
      "dense15_dense25_dense20 ... dense15_dense25_dense20 --> name 'learning_rate' is not defined\n",
      "dense15_dense25_dense25 ... dense15_dense25_dense25 --> name 'learning_rate' is not defined\n",
      "dense15_dense25_dense30 ... dense15_dense25_dense30 --> name 'learning_rate' is not defined\n",
      "dense15_dense30_dense10 ... dense15_dense30_dense10 --> name 'learning_rate' is not defined\n",
      "dense15_dense30_dense15 ... dense15_dense30_dense15 --> name 'learning_rate' is not defined\n",
      "dense15_dense30_dense20 ... dense15_dense30_dense20 --> name 'learning_rate' is not defined\n",
      "dense15_dense30_dense25 ... dense15_dense30_dense25 --> name 'learning_rate' is not defined\n",
      "dense15_dense30_dense30 ... dense15_dense30_dense30 --> name 'learning_rate' is not defined\n",
      "dense20_dense10_dense10 ... dense20_dense10_dense10 --> name 'learning_rate' is not defined\n",
      "dense20_dense10_dense15 ... dense20_dense10_dense15 --> name 'learning_rate' is not defined\n",
      "dense20_dense10_dense20 ... dense20_dense10_dense20 --> name 'learning_rate' is not defined\n",
      "dense20_dense10_dense25 ... dense20_dense10_dense25 --> name 'learning_rate' is not defined\n",
      "dense20_dense10_dense30 ... dense20_dense10_dense30 --> name 'learning_rate' is not defined\n",
      "dense20_dense15_dense10 ... dense20_dense15_dense10 --> name 'learning_rate' is not defined\n",
      "dense20_dense15_dense15 ... dense20_dense15_dense15 --> name 'learning_rate' is not defined\n",
      "dense20_dense15_dense20 ... dense20_dense15_dense20 --> name 'learning_rate' is not defined\n",
      "dense20_dense15_dense25 ... dense20_dense15_dense25 --> name 'learning_rate' is not defined\n",
      "dense20_dense15_dense30 ... dense20_dense15_dense30 --> name 'learning_rate' is not defined\n",
      "dense20_dense20_dense10 ... dense20_dense20_dense10 --> name 'learning_rate' is not defined\n",
      "dense20_dense20_dense15 ... dense20_dense20_dense15 --> name 'learning_rate' is not defined\n",
      "dense20_dense20_dense20 ... dense20_dense20_dense20 --> name 'learning_rate' is not defined\n",
      "dense20_dense20_dense25 ... dense20_dense20_dense25 --> name 'learning_rate' is not defined\n",
      "dense20_dense20_dense30 ... dense20_dense20_dense30 --> name 'learning_rate' is not defined\n",
      "dense20_dense25_dense10 ... dense20_dense25_dense10 --> name 'learning_rate' is not defined\n",
      "dense20_dense25_dense15 ... dense20_dense25_dense15 --> name 'learning_rate' is not defined\n",
      "dense20_dense25_dense20 ... dense20_dense25_dense20 --> name 'learning_rate' is not defined\n",
      "dense20_dense25_dense25 ... dense20_dense25_dense25 --> name 'learning_rate' is not defined\n",
      "dense20_dense25_dense30 ... dense20_dense25_dense30 --> name 'learning_rate' is not defined\n",
      "dense20_dense30_dense10 ... dense20_dense30_dense10 --> name 'learning_rate' is not defined\n",
      "dense20_dense30_dense15 ... dense20_dense30_dense15 --> name 'learning_rate' is not defined\n",
      "dense20_dense30_dense20 ... dense20_dense30_dense20 --> name 'learning_rate' is not defined\n",
      "dense20_dense30_dense25 ... dense20_dense30_dense25 --> name 'learning_rate' is not defined\n",
      "dense20_dense30_dense30 ... dense20_dense30_dense30 --> name 'learning_rate' is not defined\n",
      "dense25_dense10_dense10 ... dense25_dense10_dense10 --> name 'learning_rate' is not defined\n",
      "dense25_dense10_dense15 ... dense25_dense10_dense15 --> name 'learning_rate' is not defined\n",
      "dense25_dense10_dense20 ... dense25_dense10_dense20 --> name 'learning_rate' is not defined\n",
      "dense25_dense10_dense25 ... dense25_dense10_dense25 --> name 'learning_rate' is not defined\n",
      "dense25_dense10_dense30 ... dense25_dense10_dense30 --> name 'learning_rate' is not defined\n",
      "dense25_dense15_dense10 ... dense25_dense15_dense10 --> name 'learning_rate' is not defined\n",
      "dense25_dense15_dense15 ... dense25_dense15_dense15 --> name 'learning_rate' is not defined\n",
      "dense25_dense15_dense20 ... dense25_dense15_dense20 --> name 'learning_rate' is not defined\n",
      "dense25_dense15_dense25 ... dense25_dense15_dense25 --> name 'learning_rate' is not defined\n",
      "dense25_dense15_dense30 ... dense25_dense15_dense30 --> name 'learning_rate' is not defined\n",
      "dense25_dense20_dense10 ... dense25_dense20_dense10 --> name 'learning_rate' is not defined\n",
      "dense25_dense20_dense15 ... dense25_dense20_dense15 --> name 'learning_rate' is not defined\n",
      "dense25_dense20_dense20 ... dense25_dense20_dense20 --> name 'learning_rate' is not defined\n",
      "dense25_dense20_dense25 ... dense25_dense20_dense25 --> name 'learning_rate' is not defined\n",
      "dense25_dense20_dense30 ... dense25_dense20_dense30 --> name 'learning_rate' is not defined\n",
      "dense25_dense25_dense10 ... dense25_dense25_dense10 --> name 'learning_rate' is not defined\n",
      "dense25_dense25_dense15 ... dense25_dense25_dense15 --> name 'learning_rate' is not defined\n",
      "dense25_dense25_dense20 ... dense25_dense25_dense20 --> name 'learning_rate' is not defined\n",
      "dense25_dense25_dense25 ... dense25_dense25_dense25 --> name 'learning_rate' is not defined\n",
      "dense25_dense25_dense30 ... dense25_dense25_dense30 --> name 'learning_rate' is not defined\n",
      "dense25_dense30_dense10 ... dense25_dense30_dense10 --> name 'learning_rate' is not defined\n",
      "dense25_dense30_dense15 ... dense25_dense30_dense15 --> name 'learning_rate' is not defined\n",
      "dense25_dense30_dense20 ... dense25_dense30_dense20 --> name 'learning_rate' is not defined\n",
      "dense25_dense30_dense25 ... dense25_dense30_dense25 --> name 'learning_rate' is not defined\n",
      "dense25_dense30_dense30 ... dense25_dense30_dense30 --> name 'learning_rate' is not defined\n",
      "dense30_dense10_dense10 ... dense30_dense10_dense10 --> name 'learning_rate' is not defined\n",
      "dense30_dense10_dense15 ... dense30_dense10_dense15 --> name 'learning_rate' is not defined\n",
      "dense30_dense10_dense20 ... dense30_dense10_dense20 --> name 'learning_rate' is not defined\n",
      "dense30_dense10_dense25 ... dense30_dense10_dense25 --> name 'learning_rate' is not defined\n",
      "dense30_dense10_dense30 ... dense30_dense10_dense30 --> name 'learning_rate' is not defined\n",
      "dense30_dense15_dense10 ... dense30_dense15_dense10 --> name 'learning_rate' is not defined\n",
      "dense30_dense15_dense15 ... dense30_dense15_dense15 --> name 'learning_rate' is not defined\n",
      "dense30_dense15_dense20 ... dense30_dense15_dense20 --> name 'learning_rate' is not defined\n",
      "dense30_dense15_dense25 ... dense30_dense15_dense25 --> name 'learning_rate' is not defined\n",
      "dense30_dense15_dense30 ... dense30_dense15_dense30 --> name 'learning_rate' is not defined\n",
      "dense30_dense20_dense10 ... dense30_dense20_dense10 --> name 'learning_rate' is not defined\n",
      "dense30_dense20_dense15 ... dense30_dense20_dense15 --> name 'learning_rate' is not defined\n",
      "dense30_dense20_dense20 ... dense30_dense20_dense20 --> name 'learning_rate' is not defined\n",
      "dense30_dense20_dense25 ... dense30_dense20_dense25 --> name 'learning_rate' is not defined\n",
      "dense30_dense20_dense30 ... dense30_dense20_dense30 --> name 'learning_rate' is not defined\n",
      "dense30_dense25_dense10 ... dense30_dense25_dense10 --> name 'learning_rate' is not defined\n",
      "dense30_dense25_dense15 ... dense30_dense25_dense15 --> name 'learning_rate' is not defined\n",
      "dense30_dense25_dense20 ... dense30_dense25_dense20 --> name 'learning_rate' is not defined\n",
      "dense30_dense25_dense25 ... dense30_dense25_dense25 --> name 'learning_rate' is not defined\n",
      "dense30_dense25_dense30 ... dense30_dense25_dense30 --> name 'learning_rate' is not defined\n",
      "dense30_dense30_dense10 ... dense30_dense30_dense10 --> name 'learning_rate' is not defined\n",
      "dense30_dense30_dense15 ... dense30_dense30_dense15 --> name 'learning_rate' is not defined\n",
      "dense30_dense30_dense20 ... dense30_dense30_dense20 --> name 'learning_rate' is not defined\n",
      "dense30_dense30_dense25 ... dense30_dense30_dense25 --> name 'learning_rate' is not defined\n",
      "dense30_dense30_dense30 ... dense30_dense30_dense30 --> name 'learning_rate' is not defined\n"
     ]
    }
   ],
   "source": [
    "optimization_result = optimize(\\\n",
    "                               models=all_models,\\\n",
    "                               X_train=X_train_scaled,\\\n",
    "                               y_train=y_train,\\\n",
    "                               X_test=X_test_scaled,\\\n",
    "                               y_test=y_test,\n",
    "                               epochs=50 # 30, 50, 100\n",
    "                              )"
   ]
  },
  {
   "cell_type": "code",
   "execution_count": 14,
   "id": "bf44b2fa-803f-4400-a560-a30089d7a5b2",
   "metadata": {},
   "outputs": [
    {
     "ename": "KeyError",
     "evalue": "'test_accuracy'",
     "output_type": "error",
     "traceback": [
      "\u001b[0;31m---------------------------------------------------------------------------\u001b[0m",
      "\u001b[0;31mKeyError\u001b[0m                                  Traceback (most recent call last)",
      "Cell \u001b[0;32mIn [14], line 1\u001b[0m\n\u001b[0;32m----> 1\u001b[0m \u001b[43moptimization_result\u001b[49m\u001b[38;5;241;43m.\u001b[39;49m\u001b[43msort_values\u001b[49m\u001b[43m(\u001b[49m\u001b[43mby\u001b[49m\u001b[38;5;241;43m=\u001b[39;49m\u001b[38;5;124;43m'\u001b[39;49m\u001b[38;5;124;43mtest_accuracy\u001b[39;49m\u001b[38;5;124;43m'\u001b[39;49m\u001b[43m,\u001b[49m\u001b[43m \u001b[49m\u001b[43mascending\u001b[49m\u001b[38;5;241;43m=\u001b[39;49m\u001b[38;5;28;43;01mFalse\u001b[39;49;00m\u001b[43m)\u001b[49m\n",
      "File \u001b[0;32m~/.cache/pypoetry/virtualenvs/reticape-9tvBW7jA-py3.10/lib/python3.10/site-packages/pandas/util/_decorators.py:331\u001b[0m, in \u001b[0;36mdeprecate_nonkeyword_arguments.<locals>.decorate.<locals>.wrapper\u001b[0;34m(*args, **kwargs)\u001b[0m\n\u001b[1;32m    325\u001b[0m \u001b[38;5;28;01mif\u001b[39;00m \u001b[38;5;28mlen\u001b[39m(args) \u001b[38;5;241m>\u001b[39m num_allow_args:\n\u001b[1;32m    326\u001b[0m     warnings\u001b[38;5;241m.\u001b[39mwarn(\n\u001b[1;32m    327\u001b[0m         msg\u001b[38;5;241m.\u001b[39mformat(arguments\u001b[38;5;241m=\u001b[39m_format_argument_list(allow_args)),\n\u001b[1;32m    328\u001b[0m         \u001b[38;5;167;01mFutureWarning\u001b[39;00m,\n\u001b[1;32m    329\u001b[0m         stacklevel\u001b[38;5;241m=\u001b[39mfind_stack_level(),\n\u001b[1;32m    330\u001b[0m     )\n\u001b[0;32m--> 331\u001b[0m \u001b[38;5;28;01mreturn\u001b[39;00m \u001b[43mfunc\u001b[49m\u001b[43m(\u001b[49m\u001b[38;5;241;43m*\u001b[39;49m\u001b[43margs\u001b[49m\u001b[43m,\u001b[49m\u001b[43m \u001b[49m\u001b[38;5;241;43m*\u001b[39;49m\u001b[38;5;241;43m*\u001b[39;49m\u001b[43mkwargs\u001b[49m\u001b[43m)\u001b[49m\n",
      "File \u001b[0;32m~/.cache/pypoetry/virtualenvs/reticape-9tvBW7jA-py3.10/lib/python3.10/site-packages/pandas/core/frame.py:6901\u001b[0m, in \u001b[0;36mDataFrame.sort_values\u001b[0;34m(self, by, axis, ascending, inplace, kind, na_position, ignore_index, key)\u001b[0m\n\u001b[1;32m   6897\u001b[0m \u001b[38;5;28;01melif\u001b[39;00m \u001b[38;5;28mlen\u001b[39m(by):\n\u001b[1;32m   6898\u001b[0m     \u001b[38;5;66;03m# len(by) == 1\u001b[39;00m\n\u001b[1;32m   6900\u001b[0m     by \u001b[38;5;241m=\u001b[39m by[\u001b[38;5;241m0\u001b[39m]\n\u001b[0;32m-> 6901\u001b[0m     k \u001b[38;5;241m=\u001b[39m \u001b[38;5;28;43mself\u001b[39;49m\u001b[38;5;241;43m.\u001b[39;49m\u001b[43m_get_label_or_level_values\u001b[49m\u001b[43m(\u001b[49m\u001b[43mby\u001b[49m\u001b[43m,\u001b[49m\u001b[43m \u001b[49m\u001b[43maxis\u001b[49m\u001b[38;5;241;43m=\u001b[39;49m\u001b[43maxis\u001b[49m\u001b[43m)\u001b[49m\n\u001b[1;32m   6903\u001b[0m     \u001b[38;5;66;03m# need to rewrap column in Series to apply key function\u001b[39;00m\n\u001b[1;32m   6904\u001b[0m     \u001b[38;5;28;01mif\u001b[39;00m key \u001b[38;5;129;01mis\u001b[39;00m \u001b[38;5;129;01mnot\u001b[39;00m \u001b[38;5;28;01mNone\u001b[39;00m:\n\u001b[1;32m   6905\u001b[0m         \u001b[38;5;66;03m# error: Incompatible types in assignment (expression has type\u001b[39;00m\n\u001b[1;32m   6906\u001b[0m         \u001b[38;5;66;03m# \"Series\", variable has type \"ndarray\")\u001b[39;00m\n",
      "File \u001b[0;32m~/.cache/pypoetry/virtualenvs/reticape-9tvBW7jA-py3.10/lib/python3.10/site-packages/pandas/core/generic.py:1850\u001b[0m, in \u001b[0;36mNDFrame._get_label_or_level_values\u001b[0;34m(self, key, axis)\u001b[0m\n\u001b[1;32m   1844\u001b[0m     values \u001b[38;5;241m=\u001b[39m (\n\u001b[1;32m   1845\u001b[0m         \u001b[38;5;28mself\u001b[39m\u001b[38;5;241m.\u001b[39maxes[axis]\n\u001b[1;32m   1846\u001b[0m         \u001b[38;5;241m.\u001b[39mget_level_values(key)  \u001b[38;5;66;03m# type: ignore[assignment]\u001b[39;00m\n\u001b[1;32m   1847\u001b[0m         \u001b[38;5;241m.\u001b[39m_values\n\u001b[1;32m   1848\u001b[0m     )\n\u001b[1;32m   1849\u001b[0m \u001b[38;5;28;01melse\u001b[39;00m:\n\u001b[0;32m-> 1850\u001b[0m     \u001b[38;5;28;01mraise\u001b[39;00m \u001b[38;5;167;01mKeyError\u001b[39;00m(key)\n\u001b[1;32m   1852\u001b[0m \u001b[38;5;66;03m# Check for duplicates\u001b[39;00m\n\u001b[1;32m   1853\u001b[0m \u001b[38;5;28;01mif\u001b[39;00m values\u001b[38;5;241m.\u001b[39mndim \u001b[38;5;241m>\u001b[39m \u001b[38;5;241m1\u001b[39m:\n",
      "\u001b[0;31mKeyError\u001b[0m: 'test_accuracy'"
     ]
    }
   ],
   "source": [
    "optimization_result.sort_values(by='test_accuracy', ascending=False)"
   ]
  }
 ],
 "metadata": {
  "kernelspec": {
   "display_name": "reticape-9tvBW7jA-py3.10",
   "language": "python",
   "name": "reticape-9tvbw7ja-py3.10"
  },
  "language_info": {
   "codemirror_mode": {
    "name": "ipython",
    "version": 3
   },
   "file_extension": ".py",
   "mimetype": "text/x-python",
   "name": "python",
   "nbconvert_exporter": "python",
   "pygments_lexer": "ipython3",
   "version": "3.10.0"
  }
 },
 "nbformat": 4,
 "nbformat_minor": 5
}
